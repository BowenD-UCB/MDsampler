{
 "cells": [
  {
   "cell_type": "code",
   "execution_count": 26,
   "id": "02fb2313",
   "metadata": {},
   "outputs": [],
   "source": [
    "from mdsampler.sampler import Sampler\n",
    "from pymatgen.core import Lattice, Structure"
   ]
  },
  {
   "cell_type": "markdown",
   "id": "7caca452",
   "metadata": {},
   "source": [
    "## Initialize the MD sampler"
   ]
  },
  {
   "cell_type": "code",
   "execution_count": 27,
   "id": "2865a270",
   "metadata": {},
   "outputs": [],
   "source": [
    "sampler = Sampler()"
   ]
  },
  {
   "cell_type": "markdown",
   "id": "296717d3",
   "metadata": {},
   "source": [
    "## Create dummy structures NaCl and KCl (lattice params are incorrect)"
   ]
  },
  {
   "cell_type": "code",
   "execution_count": 28,
   "id": "8c0e1fde",
   "metadata": {},
   "outputs": [],
   "source": [
    "lattice = Lattice.cubic(4)\n",
    "species = [\"Na\", \"Cl\"]\n",
    "coords = [[0, 0, 0], [0.5, 0.5, 0.5]]\n",
    "NaCl = Structure(lattice, species, coords)\n",
    "\n",
    "lattice = Lattice.cubic(5)\n",
    "species = [\"K\", \"Cl\"]\n",
    "coords = [[0, 0, 0], [0.5, 0.5, 0.5]]\n",
    "KCl = Structure(lattice, species, coords)"
   ]
  },
  {
   "cell_type": "markdown",
   "id": "2a7b1030",
   "metadata": {},
   "source": [
    "### create 20 slightly-perturbed structures for NaCl and KCl, one sevrely-strained KCL to structure list"
   ]
  },
  {
   "cell_type": "code",
   "execution_count": 34,
   "id": "d7d6f26c",
   "metadata": {},
   "outputs": [],
   "source": [
    "structures = []\n",
    "for i in range(20):\n",
    "    struc = NaCl.copy()\n",
    "    struc.perturb(distance=0.1)\n",
    "    structures.append(struc)\n",
    "for i in range(20):\n",
    "    struc = KCl.copy()\n",
    "    struc.perturb(distance=0.1)\n",
    "    structures.append(struc)\n",
    "\n",
    "struc = KCl.copy()\n",
    "struc.apply_strain([0.5, 0.5, 0.5])\n",
    "structures.append(struc)\n",
    "\n",
    "struc = KCl.copy()\n",
    "struc.apply_strain([0.2, 0.2, 0.2])\n",
    "structures.append(struc)"
   ]
  },
  {
   "cell_type": "markdown",
   "id": "b965cef6",
   "metadata": {},
   "source": [
    "## Sample 3 structures using the MD sampler with only one line"
   ]
  },
  {
   "cell_type": "code",
   "execution_count": 35,
   "id": "bc1c61f2",
   "metadata": {},
   "outputs": [
    {
     "name": "stdout",
     "output_type": "stream",
     "text": [
      "wcss = 3.4404659271240234\n",
      "returned the [3, 6, 27] structures\n",
      "We have sampled 3 structures\n"
     ]
    }
   ],
   "source": [
    "sampled_structures, wcss = sampler.sample_structures(structures=structures, num_out=3)\n",
    "print(f\"We have sampled {len(sampled_structures)} structures\")"
   ]
  },
  {
   "cell_type": "markdown",
   "id": "24d4f62e",
   "metadata": {},
   "source": [
    "### WCSS stands for \"Within Cluster Sum of Squares\". \n",
    "###  It's a measure used in k-means clustering and other similar algorithms to evaluate the quality of the clustering. Here, the smaller means the better coverage of selected structures as a statistical representative for the original input distribution.\n",
    "### In practice, you should use WCSS to check whether the number of selected structures can present a good coverage of the input structure list"
   ]
  },
  {
   "cell_type": "code",
   "execution_count": 38,
   "id": "56a3ff58",
   "metadata": {},
   "outputs": [
    {
     "name": "stdout",
     "output_type": "stream",
     "text": [
      "[5.484171390533447, 3.4855687618255615, 0.4653462767601013, 0.44158056378364563, 0.4366665482521057, 0.008293015882372856, 0.37891241908073425]\n"
     ]
    }
   ],
   "source": [
    "test_num_outs, wcss_list = sampler.get_wcss_list(\n",
    "    structures=structures, test_num_outs=[1, 2, 3, 4, 5, 10, 15]\n",
    ")\n",
    "print(wcss_list)"
   ]
  },
  {
   "cell_type": "code",
   "execution_count": 39,
   "id": "73fbfe26",
   "metadata": {},
   "outputs": [],
   "source": [
    "%matplotlib inline\n",
    "import matplotlib\n",
    "import matplotlib.pyplot as plt\n",
    "\n",
    "font = {\"family\": \"arial\", \"weight\": \"normal\", \"size\": 18}\n",
    "\n",
    "matplotlib.rc(\"font\", **font)"
   ]
  },
  {
   "cell_type": "code",
   "execution_count": 40,
   "id": "df75bbf1",
   "metadata": {},
   "outputs": [
    {
     "data": {
      "text/plain": [
       "[<matplotlib.lines.Line2D at 0x158a5e6a0>]"
      ]
     },
     "execution_count": 40,
     "metadata": {},
     "output_type": "execute_result"
    },
    {
     "data": {
      "image/png": "[encoded data removed]",
      "text/plain": [
       "<Figure size 360x288 with 1 Axes>"
      ]
     },
     "metadata": {
      "needs_background": "light"
     },
     "output_type": "display_data"
    }
   ],
   "source": [
    "fig = plt.figure(figsize=((5, 4)))\n",
    "ax = fig.add_subplot()\n",
    "ax.set_title(r\"Information loss cs number of selected structures\")\n",
    "ax.set_xlabel(\"number of selected structure\")\n",
    "ax.set_ylabel(\"WCSS\")\n",
    "\n",
    "ax.plot(test_num_outs, wcss_list)"
   ]
  },
  {
   "cell_type": "markdown",
   "id": "88096f1a",
   "metadata": {},
   "source": [
    "### Note that the information loss is almost zero starting at x=3. This is because we have selected the 3 most representative structures: NaCl, KCl and strained KCl"
   ]
  },
  {
   "cell_type": "code",
   "execution_count": null,
   "id": "dd51a153",
   "metadata": {},
   "outputs": [],
   "source": []
  }
 ],
 "metadata": {
  "kernelspec": {
   "display_name": "Python (tf)",
   "language": "python",
   "name": "myenv"
  },
  "language_info": {
   "codemirror_mode": {
    "name": "ipython",
    "version": 3
   },
   "file_extension": ".py",
   "mimetype": "text/x-python",
   "name": "python",
   "nbconvert_exporter": "python",
   "pygments_lexer": "ipython3",
   "version": "3.9.10"
  }
 },
 "nbformat": 4,
 "nbformat_minor": 5
}
